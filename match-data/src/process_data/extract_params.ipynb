{
 "cells": [
  {
   "cell_type": "code",
   "execution_count": 1,
   "id": "a8a52d69-0fd2-424c-8e31-01fe2f5d5394",
   "metadata": {},
   "outputs": [],
   "source": [
    "import json\n",
    "import ijson\n",
    "import time\n",
    "\n",
    "from tqdm import tqdm\n",
    "\n",
    "def clean_fittings(original_path):\n",
    "    user_type_1 = set()\n",
    "    user_type_2 = set()\n",
    "\n",
    "    with open(original_path, \"r\") as file:\n",
    "        print(\"Reading data...\")\n",
    "        fittings = {str(fitting[\"user_id\"]): fitting for fitting in list(ijson.items(file, \"RECORDS.item\"))}\n",
    "\n",
    "        for user_id, fitting in tqdm(\n",
    "            fittings.items(),\n",
    "            desc=\"Processing\",\n",
    "            colour=\"green\",\n",
    "        ):\n",
    "            fitting_content = json.loads(fitting[\"fitting_content\"])\n",
    "            if \"ParametersDouble0\" in fitting_content:\n",
    "                user_type_1.add(user_id)\n",
    "            else:\n",
    "                user_type_2.add(user_id)\n",
    "    return user_type_1, user_type_2\n",
    "\n",
    "def load_json(file_path):\n",
    "    with open(file_path, \"r\") as file:\n",
    "        return json.load(file)"
   ]
  },
  {
   "cell_type": "code",
   "execution_count": null,
   "id": "95806bea-eed7-433a-8704-50cb2ab27a17",
   "metadata": {},
   "outputs": [],
   "source": []
  },
  {
   "cell_type": "code",
   "execution_count": 2,
   "id": "45994829-b07c-4001-8c61-ca49804ce70e",
   "metadata": {},
   "outputs": [
    {
     "name": "stdout",
     "output_type": "stream",
     "text": [
      "Reading data...\n"
     ]
    },
    {
     "name": "stderr",
     "output_type": "stream",
     "text": [
      "Processing: 100%|\u001b[32m██████████████████████████████████████████████████████████████████████████████████████████████████████████\u001b[0m| 18621/18621 [00:04<00:00, 4546.19it/s]\u001b[0m\n"
     ]
    }
   ],
   "source": [
    "cleaned_aids_path = \"../cleaned_data/cleaned_aids.json\"\n",
    "aids = {aid[\"user_id\"]: aid for aid in load_json(cleaned_aids_path)}\n",
    "\n",
    "original_fittings_path = \"../data/fittings.json\"\n",
    "cleaned_fittings_path = \"../cleaned_data/cleaned_fittings.json\"\n",
    "user_type_1, user_type_2 = clean_fittings(original_fittings_path)"
   ]
  },
  {
   "cell_type": "code",
   "execution_count": 3,
   "id": "16c84509-6bd8-492b-a989-3bbb03fdd3c5",
   "metadata": {},
   "outputs": [],
   "source": [
    "for user_id_1 in user_type_1:\n",
    "    for user_id_2 in user_type_2:\n",
    "        if user_id_1 == user_id_2:\n",
    "            print(user_id_1)"
   ]
  },
  {
   "cell_type": "code",
   "execution_count": null,
   "id": "2ed018f3-832f-42ed-abed-93fb4f598bd7",
   "metadata": {},
   "outputs": [],
   "source": []
  },
  {
   "cell_type": "code",
   "execution_count": 4,
   "id": "8ca9c737-1ab4-404e-8b29-bb8722cc7a2d",
   "metadata": {},
   "outputs": [
    {
     "data": {
      "text/plain": [
       "(10760, 7861)"
      ]
     },
     "execution_count": 4,
     "metadata": {},
     "output_type": "execute_result"
    }
   ],
   "source": [
    "len(user_type_1), len(user_type_2)"
   ]
  },
  {
   "cell_type": "code",
   "execution_count": 10,
   "id": "94fa7e11-bfa1-4b14-a59f-9288c4bb01bd",
   "metadata": {},
   "outputs": [],
   "source": [
    "import csv\n",
    "import re\n",
    "def count_type(\n",
    "    user_type_1, user_type_2, aids, product_type_1_path, product_type_2_path\n",
    "):\n",
    "    product_type_1 = set()\n",
    "    for user_id in user_type_1:\n",
    "        if str(user_id) in aids:\n",
    "            product_type_1.add(aids[str(user_id)][\"product_name\"])\n",
    "    with open(product_type_1_path, \"w\", newline='') as csvfile:\n",
    "        writer = csv.writer(csvfile)\n",
    "        writer.writerow([\"id\", \"product_name\"])\n",
    "        for i, product in enumerate(product_type_1):\n",
    "                writer.writerow([i + 1, product])\n",
    "\n",
    "    product_type_2 = set()\n",
    "    for user_id in user_type_2:\n",
    "        if str(user_id) in aids:\n",
    "            product_type_2.add(aids[str(user_id)][\"product_name\"])\n",
    "    with open(product_type_2_path, \"w\", newline='') as csvfile:\n",
    "        writer = csv.writer(csvfile)\n",
    "        writer.writerow([\"id\", \"product_name\"])\n",
    "        for i, product in enumerate(product_type_2):\n",
    "                writer.writerow([i + 1, product])\n",
    "    return product_type_1, product_type_2"
   ]
  },
  {
   "cell_type": "code",
   "execution_count": 11,
   "id": "2869dcc7-a6ef-4764-9250-93e1aa4e4480",
   "metadata": {},
   "outputs": [],
   "source": [
    "product_type_1_path = \"../cleaned_data/product_type_1.csv\"\n",
    "product_type_2_path = \"../cleaned_data/product_type_2.csv\"\n",
    "product_type_1, product_type_2 = count_type(user_type_1, user_type_2, aids, product_type_1_path, product_type_2_path)"
   ]
  },
  {
   "cell_type": "code",
   "execution_count": 12,
   "id": "c0cb958f-edc3-435b-b231-5cb82bc46765",
   "metadata": {
    "scrolled": true
   },
   "outputs": [
    {
     "name": "stdout",
     "output_type": "stream",
     "text": [
      "CIC Charm E330\n",
      "ITC Linear 12\n",
      "ITC Linear 9B\n",
      "CIC Enjoyment 7\n",
      "CIC Linear 8B\n",
      "HS Charm E330\n",
      "MINI CIC Sequel 15\n",
      "CIC Charm B230\n",
      "CIC Charm G630\n",
      "HS Linear 12\n",
      "CIC Enjoyment 8\n",
      "ITC Linear 7B\n",
      "CIC Linear 15\n",
      "HS Linear 9B\n",
      "ITC Linear 11\n",
      "MINI CIC Sequel 12\n",
      "CIC Fascinating 3300\n",
      "MINI CIC Sequel 13\n",
      "CIC Charm K830\n",
      "CIC Linear 10B\n",
      "HS Laverock 10\n",
      "HS Linear 15\n",
      "CIC Skylark 530\n"
     ]
    }
   ],
   "source": [
    "for product_1 in product_type_1:\n",
    "    for product_2 in product_type_2:\n",
    "        if product_1 == product_2:\n",
    "            print(product_1)"
   ]
  },
  {
   "cell_type": "code",
   "execution_count": 5,
   "id": "f895e845-067a-4ed7-ba80-e7868df2ec16",
   "metadata": {},
   "outputs": [],
   "source": [
    "import ijson\n",
    "import json\n",
    "import csv\n",
    "import random\n",
    "\n",
    "def count_fitting_params(user_ids, file_path, write_path):\n",
    "    fitting_params = {}\n",
    "    with open(file_path, \"r\") as file:\n",
    "        fittings = {str(fitting[\"user_id\"]): fitting for fitting in list(ijson.items(file, \"RECORDS.item\"))}\n",
    "        user_a =  extract_fitting_dict(json.loads(fittings[user_ids[0]][\"fitting_content\"]))\n",
    "        user_b =  extract_fitting_dict(json.loads(fittings[user_ids[1]][\"fitting_content\"]))\n",
    "    return compare_dicts(user_a, user_b)\n",
    "        \n",
    "def compare_dicts(dict1, dict2):\n",
    "    # Initialize a counter for differing key-value pairs\n",
    "    count_diff = []\n",
    "    \n",
    "    # Iterate through the keys of the first dictionary\n",
    "    for key in dict1.keys():\n",
    "        # Check if the key exists in both dictionaries\n",
    "        if key in dict2:\n",
    "            # Compare the values of the key in both dictionaries\n",
    "            if dict1[key] != dict2[key]:\n",
    "                count_diff.append(key)\n",
    "    \n",
    "    return count_diff\n",
    "\n",
    "def extract_fitting_dict(fitting):\n",
    "    result = {}\n",
    "    for key, values in fitting.items():\n",
    "        for param, value in values.items():\n",
    "            result[f\"{key}_{param}\"] = value\n",
    "    return result\n",
    "\n",
    "\n",
    "def load_random_users(file_path):\n",
    "    with open(file_path, \"r\", newline='') as csvfile:\n",
    "        reader = csv.reader(csvfile)\n",
    "        total_user_ids = list(reader)\n",
    "        \n",
    "    random_users = random.sample(total_user_ids, 2)\n",
    "    user_ids = [str(user[0]) for user in random_users]\n",
    "    print(user_ids)\n",
    "    return user_ids\n",
    "\n",
    "\n",
    "def load_json(file_path):\n",
    "    with open(file_path, \"r\") as file:\n",
    "        return json.load(file)"
   ]
  },
  {
   "cell_type": "code",
   "execution_count": 30,
   "id": "b6404e92-bffb-412a-8915-66b53cd54ad2",
   "metadata": {},
   "outputs": [
    {
     "name": "stdout",
     "output_type": "stream",
     "text": [
      "['1093561', '1088405']\n"
     ]
    }
   ],
   "source": [
    "fitting_path = \"../data/fittings.json\"\n",
    "\n",
    "user_type_2_path = \"../cleaned_data/user_type_2.csv\"\n",
    "user_ids = load_random_users(user_type_2_path)\n",
    "\n",
    "write_path = \"../cleaned_data/test.json\"\n",
    "important_params = count_fitting_params(user_ids, fitting_path, write_path)"
   ]
  },
  {
   "cell_type": "code",
   "execution_count": 31,
   "id": "064b411a-246b-46ac-b000-849d329a190e",
   "metadata": {
    "scrolled": true
   },
   "outputs": [
    {
     "data": {
      "text/plain": [
       "74"
      ]
     },
     "execution_count": 31,
     "metadata": {},
     "output_type": "execute_result"
    }
   ],
   "source": [
    "len(important_params)"
   ]
  },
  {
   "cell_type": "code",
   "execution_count": 32,
   "id": "c29fcdc9-0d3c-4b91-80c6-199ccab368dc",
   "metadata": {
    "scrolled": true
   },
   "outputs": [
    {
     "name": "stdout",
     "output_type": "stream",
     "text": [
      "Parameters0_BEQ10_gain\n",
      "Parameters0_BEQ11_gain\n",
      "Parameters0_BEQ12_gain\n",
      "Parameters0_BEQ1_gain\n",
      "Parameters0_BEQ2_gain\n",
      "Parameters0_BEQ3_gain\n",
      "Parameters0_BEQ4_gain\n",
      "Parameters0_BEQ7_gain\n",
      "Parameters0_BEQ8_gain\n",
      "Parameters0_BEQ9_gain\n",
      "Parameters0_C1_MPO\n",
      "Parameters0_C1_Ratio\n",
      "Parameters0_C1_TK\n",
      "Parameters0_C2_MPO\n",
      "Parameters0_C2_Ratio\n",
      "Parameters0_C2_TK\n",
      "Parameters0_C3_MPO\n",
      "Parameters0_C3_Ratio\n",
      "Parameters0_C3_TK\n",
      "Parameters0_C4_MPO\n",
      "Parameters0_C4_Ratio\n",
      "Parameters0_C4_TK\n",
      "Parameters0_C5_MPO\n",
      "Parameters0_C5_Ratio\n",
      "Parameters0_C5_TK\n",
      "Parameters0_C6_MPO\n",
      "Parameters0_C6_Ratio\n",
      "Parameters0_C6_TK\n",
      "Parameters0_FBC_Enable\n",
      "Parameters0_matrix_gain\n",
      "Parameters1_BEQ10_gain\n",
      "Parameters1_BEQ11_gain\n",
      "Parameters1_BEQ1_gain\n",
      "Parameters1_BEQ2_gain\n",
      "Parameters1_BEQ3_gain\n",
      "Parameters1_BEQ4_gain\n",
      "Parameters1_BEQ8_gain\n",
      "Parameters1_BEQ9_gain\n",
      "Parameters1_C1_MPO\n",
      "Parameters1_C1_Ratio\n",
      "Parameters1_C1_TK\n",
      "Parameters1_C2_MPO\n",
      "Parameters1_C2_Ratio\n",
      "Parameters1_C2_TK\n",
      "Parameters1_C3_MPO\n",
      "Parameters1_C3_Ratio\n",
      "Parameters1_C3_TK\n",
      "Parameters1_C4_MPO\n",
      "Parameters1_C4_Ratio\n",
      "Parameters1_C4_TK\n",
      "Parameters1_C5_MPO\n",
      "Parameters1_C5_Ratio\n",
      "Parameters1_C5_TK\n",
      "Parameters1_C6_MPO\n",
      "Parameters1_C6_Ratio\n",
      "Parameters1_C6_TK\n",
      "Parameters1_FBC_Enable\n",
      "Parameters1_matrix_gain\n",
      "Parameters2_BEQ10_gain\n",
      "Parameters2_BEQ11_gain\n",
      "Parameters2_BEQ1_gain\n",
      "Parameters2_BEQ2_gain\n",
      "Parameters2_BEQ3_gain\n",
      "Parameters2_BEQ4_gain\n",
      "Parameters2_BEQ8_gain\n",
      "Parameters2_BEQ9_gain\n",
      "Parameters2_C1_TK\n",
      "Parameters2_C2_TK\n",
      "Parameters2_C3_TK\n",
      "Parameters2_C4_TK\n",
      "Parameters2_C5_TK\n",
      "Parameters2_C6_TK\n",
      "Parameters2_FBC_Enable\n",
      "Parameters2_matrix_gain\n"
     ]
    }
   ],
   "source": [
    "for param in important_params:\n",
    "    print(param)"
   ]
  }
 ],
 "metadata": {
  "kernelspec": {
   "display_name": "Python 3 (ipykernel)",
   "language": "python",
   "name": "python3"
  },
  "language_info": {
   "codemirror_mode": {
    "name": "ipython",
    "version": 3
   },
   "file_extension": ".py",
   "mimetype": "text/x-python",
   "name": "python",
   "nbconvert_exporter": "python",
   "pygments_lexer": "ipython3",
   "version": "3.10.12"
  }
 },
 "nbformat": 4,
 "nbformat_minor": 5
}
