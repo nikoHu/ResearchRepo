{
 "cells": [
  {
   "cell_type": "code",
   "execution_count": 16,
   "metadata": {},
   "outputs": [
    {
     "name": "stdout",
     "output_type": "stream",
     "text": [
      "inputs: torch.Size([2, 6]) tensor([[ 2,  4,  0,  0,  7,  0],\n",
      "        [10,  3,  0,  6,  0,  0]])\n",
      "outputs: torch.Size([2, 5]) tensor([[1., 3., 6., 2., 5.],\n",
      "        [3., 4., 7., 5., 8.]])\n"
     ]
    }
   ],
   "source": [
    "import numpy as np\n",
    "import torch\n",
    "from torch.utils.data import DataLoader, TensorDataset\n",
    "\n",
    "# 示例输入和输出\n",
    "inputs = np.array([[10, 3, 0, 6, 0, 0],\n",
    "                   [2, 4, 0, 0, 7, 0]])\n",
    "outputs = np.array([[3, 4, 7, 5, 8],\n",
    "                    [1, 3, 6, 2, 5]])\n",
    "\n",
    "inputs[inputs == 0] = 0  # 将0替换为100，作为缺失值占位符\n",
    "inputs = torch.tensor(inputs, dtype=torch.long)\n",
    "outputs = torch.tensor(outputs, dtype=torch.float32)\n",
    "\n",
    "# 创建DataLoader\n",
    "dataset = TensorDataset(inputs, outputs)\n",
    "dataloader = DataLoader(dataset, batch_size=2, shuffle=True)\n",
    "\n",
    "for batch in dataloader:\n",
    "    print('inputs:', batch[0].shape, batch[0])\n",
    "    print('outputs:', batch[1].shape, batch[1])\n",
    "    break\n"
   ]
  },
  {
   "cell_type": "code",
   "execution_count": 10,
   "metadata": {},
   "outputs": [],
   "source": [
    "import math\n",
    "import torch.nn as nn\n",
    "\n",
    "def generate_positional_encoding(max_len, d_model):\n",
    "    pe = torch.zeros(max_len, d_model)\n",
    "    position = torch.arange(0, max_len, dtype=torch.float).unsqueeze(1)\n",
    "    div_term = torch.exp(torch.arange(0, d_model, 2).float() * (-math.log(10000.0) / d_model))\n",
    "    pe[:, 0::2] = torch.sin(position * div_term)\n",
    "    pe[:, 1::2] = torch.cos(position * div_term)\n",
    "    pe = pe.unsqueeze(0)\n",
    "    return pe\n"
   ]
  },
  {
   "cell_type": "code",
   "execution_count": 11,
   "metadata": {},
   "outputs": [],
   "source": [
    "import torch.nn as nn\n",
    "\n",
    "class TransformerModel(nn.Module):\n",
    "    def __init__(self, input_dim, output_dim, d_model=64, nhead=4, num_layers=3, dim_feedforward=256, max_len=500):\n",
    "        super(TransformerModel, self).__init__()\n",
    "        self.embedding = nn.Embedding(input_dim, d_model, padding_idx=0)\n",
    "        self.pos_encoder = generate_positional_encoding(max_len, d_model)\n",
    "        encoder_layer = nn.TransformerEncoderLayer(d_model=d_model, nhead=nhead, dim_feedforward=dim_feedforward, batch_first=True)\n",
    "        self.transformer_encoder = nn.TransformerEncoder(encoder_layer, num_layers=num_layers)\n",
    "        self.fc = nn.Linear(d_model, output_dim)\n",
    "    \n",
    "    def forward(self, src):\n",
    "        src = self.embedding(src) + self.pos_encoder[:, :src.size(1), :].to(src.device)\n",
    "        output = self.transformer_encoder(src)\n",
    "        output = self.fc(output) # (batch_size, seq_len, output_dim)\n",
    "        output = torch.mean(output, dim=1) # (batch_size, output_dim)\n",
    "        return output\n",
    "\n",
    "\n",
    "input_dim = 201  # 假设输入的数字在0到100之间，包括100作为缺失值占位符\n",
    "output_dim = outputs.size(1)\n",
    "model = TransformerModel(input_dim, output_dim)\n"
   ]
  },
  {
   "cell_type": "code",
   "execution_count": 12,
   "metadata": {},
   "outputs": [],
   "source": [
    "criterion = nn.MSELoss()\n",
    "optimizer = torch.optim.Adam(model.parameters(), lr=0.001)\n"
   ]
  },
  {
   "cell_type": "code",
   "execution_count": 13,
   "metadata": {},
   "outputs": [
    {
     "name": "stdout",
     "output_type": "stream",
     "text": [
      "Epoch [1/10], Loss: 23.7127\n",
      "Epoch [2/10], Loss: 18.5774\n",
      "Epoch [3/10], Loss: 15.6292\n",
      "Epoch [4/10], Loss: 13.2802\n",
      "Epoch [5/10], Loss: 11.8894\n",
      "Epoch [6/10], Loss: 10.8821\n",
      "Epoch [7/10], Loss: 9.9915\n",
      "Epoch [8/10], Loss: 9.4551\n",
      "Epoch [9/10], Loss: 8.9348\n",
      "Epoch [10/10], Loss: 8.5800\n"
     ]
    }
   ],
   "source": [
    "num_epochs = 10\n",
    "\n",
    "for epoch in range(num_epochs):\n",
    "    for batch in dataloader:\n",
    "        inputs, targets = batch\n",
    "        optimizer.zero_grad()\n",
    "        outputs = model(inputs)\n",
    "        loss = criterion(outputs, targets)\n",
    "        loss.backward()\n",
    "        optimizer.step()\n",
    "    \n",
    "    print(f'Epoch [{epoch+1}/{num_epochs}], Loss: {loss.item():.4f}')\n"
   ]
  },
  {
   "cell_type": "code",
   "execution_count": 14,
   "metadata": {},
   "outputs": [
    {
     "name": "stdout",
     "output_type": "stream",
     "text": [
      "Validation Loss: 7.9806\n",
      "tensor([[1.2308, 1.5811, 3.1411, 1.5231, 2.4864]])\n"
     ]
    }
   ],
   "source": [
    "# 模型评估\n",
    "model.eval()\n",
    "with torch.no_grad():\n",
    "    for batch in dataloader:\n",
    "        inputs, targets = batch\n",
    "        outputs = model(inputs)\n",
    "        loss = criterion(outputs, targets)\n",
    "        print(f'Validation Loss: {loss.item():.4f}')\n",
    "\n",
    "# 进行预测\n",
    "with torch.no_grad():\n",
    "    inputs = torch.tensor([[10, 3, 0, 6, 0, 0]], dtype=torch.long)\n",
    "    inputs[inputs == 0] = 100\n",
    "    outputs = model(inputs)\n",
    "    print(outputs)\n"
   ]
  }
 ],
 "metadata": {
  "kernelspec": {
   "display_name": "match-data-DLs9GDz--match-data",
   "language": "python",
   "name": "python3"
  },
  "language_info": {
   "codemirror_mode": {
    "name": "ipython",
    "version": 3
   },
   "file_extension": ".py",
   "mimetype": "text/x-python",
   "name": "python",
   "nbconvert_exporter": "python",
   "pygments_lexer": "ipython3",
   "version": "3.10.12"
  }
 },
 "nbformat": 4,
 "nbformat_minor": 2
}
