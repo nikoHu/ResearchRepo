{
 "cells": [
  {
   "cell_type": "code",
   "execution_count": 1,
   "id": "7b2935b1-d9d6-4f36-a265-4068c31cb5e2",
   "metadata": {},
   "outputs": [],
   "source": [
    "import json\n",
    "import torch\n",
    "import random\n",
    "\n",
    "import numpy as np\n",
    "import pandas as pd\n",
    "import torch.nn as nn\n",
    "import matplotlib.pyplot as plt\n",
    "\n",
    "from torchinfo import summary\n",
    "from torch.optim import Adam\n",
    "from torch.utils.data import Dataset, DataLoader\n",
    "from torch.optim.lr_scheduler import StepLR\n",
    "\n",
    "from sklearn.preprocessing import MinMaxScaler"
   ]
  },
  {
   "cell_type": "code",
   "execution_count": 2,
   "id": "f3d25a25-6caa-4fb8-b89e-e92ad03567a9",
   "metadata": {},
   "outputs": [
    {
     "data": {
      "text/plain": [
       "device(type='cuda')"
      ]
     },
     "execution_count": 2,
     "metadata": {},
     "output_type": "execute_result"
    }
   ],
   "source": [
    "DEVICE = torch.device(\"cuda\" if torch.cuda.is_available() else \"cpu\")\n",
    "DEVICE"
   ]
  },
  {
   "cell_type": "code",
   "execution_count": 3,
   "id": "1297c1c1-4469-4dc3-9743-da2922635e69",
   "metadata": {},
   "outputs": [],
   "source": [
    "def process_data(file_path):\n",
    "    with open(file_path, \"r\") as file:\n",
    "        datas = json.load(file)\n",
    "\n",
    "    dataset = []\n",
    "    for data in datas:\n",
    "        user_info = []\n",
    "        for _, value in data[\"user_info\"].items():\n",
    "            if value:\n",
    "                user_info.append(value)\n",
    "            else:\n",
    "                user_info.append(-1)\n",
    "        \n",
    "        parameter = []\n",
    "        for _, value in data[\"parameter\"].items():\n",
    "            parameter.append(value)\n",
    "        dataset.append({\"user_info\": user_info, \"parameter\": parameter})\n",
    "\n",
    "    return dataset"
   ]
  },
  {
   "cell_type": "code",
   "execution_count": 4,
   "id": "babbefc0-8426-432c-a479-4489bf651372",
   "metadata": {},
   "outputs": [],
   "source": [
    "class HearingAidDataset(Dataset):\n",
    "    def __init__(self, dataset):\n",
    "        self.dataset = dataset\n",
    "        self.scaler = MinMaxScaler()\n",
    "        \n",
    "        # 提前将参数归一化\n",
    "        params = [item[\"parameter\"] for item in dataset]\n",
    "        self.scaled_params = self.scaler.fit_transform(params)\n",
    "\n",
    "    def __len__(self):\n",
    "        return len(self.dataset)\n",
    "    \n",
    "    def __getitem__(self, idx):\n",
    "        user_info = self.dataset[idx][\"user_info\"]\n",
    "        user_info_tensor = torch.tensor(user_info, dtype=torch.float32)\n",
    "        param_tensor = torch.tensor(self.scaled_params[idx], dtype=torch.float32)\n",
    "        \n",
    "        return user_info_tensor, param_tensor"
   ]
  },
  {
   "cell_type": "code",
   "execution_count": 5,
   "id": "fe07f855",
   "metadata": {},
   "outputs": [],
   "source": [
    "# class HearingAidDataset(Dataset):\n",
    "#     def __init__(self, dataset):\n",
    "#         self.dataset = dataset\n",
    "\n",
    "#     def __len__(self):\n",
    "#         return len(self.dataset)\n",
    "    \n",
    "#     def __getitem__(self, idx):\n",
    "#         user_info = self.dataset[idx][\"user_info\"]\n",
    "#         param = self.dataset[idx][\"parameter\"]\n",
    "#         user_info_tensor = torch.tensor(user_info, dtype=torch.float32)\n",
    "#         param_tensor = torch.tensor(param, dtype=torch.float32)\n",
    "        \n",
    "#         return user_info_tensor, param_tensor"
   ]
  },
  {
   "cell_type": "code",
   "execution_count": 6,
   "id": "d5f28594-3076-479b-ac4e-ff0380a89ec8",
   "metadata": {},
   "outputs": [],
   "source": [
    "# class HearingAidModel(nn.Module):\n",
    "#     def __init__(self, input_size, output_size):\n",
    "#         super(HearingAidModel, self).__init__()\n",
    "#         self.input_layer = nn.Linear(input_size, 128)\n",
    "#         self.relu1 = nn.ReLU()\n",
    "#         self.input_bn = nn.BatchNorm1d(128)\n",
    "#         self.hidden_layer1 = nn.Linear(128, 256)\n",
    "#         self.relu2 = nn.ReLU()\n",
    "#         self.hidden_bn1 = nn.BatchNorm1d(256)\n",
    "#         self.hidden_layer2 = nn.Linear(256, 128)\n",
    "#         self.relu3 = nn.ReLU()\n",
    "#         self.hidden_bn2 = nn.BatchNorm1d(128)\n",
    "#         self.output_layer = nn.Linear(128, output_size)\n",
    "#         self.dropout = nn.Dropout(0.2)\n",
    "    \n",
    "#     def forward(self, x):\n",
    "#         x = self.input_layer(x)\n",
    "#         x = self.relu1(x)\n",
    "#         x = self.input_bn(x)\n",
    "#         x = self.hidden_layer1(x)\n",
    "#         x = self.relu2(x)\n",
    "#         x = self.hidden_bn1(x)\n",
    "#         x = self.hidden_layer2(x)\n",
    "#         x = self.relu3(x)\n",
    "#         x = self.hidden_bn2(x)\n",
    "#         x = self.output_layer(x)\n",
    "#         return x"
   ]
  },
  {
   "cell_type": "code",
   "execution_count": 7,
   "id": "f38081c1",
   "metadata": {},
   "outputs": [],
   "source": [
    "class HearingAidModel(nn.Module):\n",
    "    def __init__(self, input_size, output_size):\n",
    "        super(HearingAidModel, self).__init__()\n",
    "        self.fc1 = nn.Linear(input_size, 128)\n",
    "        self.relu1 = nn.ReLU()\n",
    "\n",
    "        self.fc2 = nn.Linear(128, 256)\n",
    "        self.relu2 = nn.ReLU()\n",
    "\n",
    "        self.fc3 = nn.Linear(256, output_size)\n",
    "    \n",
    "    def forward(self, x):\n",
    "        x = self.fc1(x)\n",
    "        x = self.relu1(x)\n",
    "\n",
    "        x = self.fc2(x)\n",
    "        x = self.relu2(x)\n",
    "\n",
    "        x = self.fc3(x)\n",
    "        return x"
   ]
  },
  {
   "cell_type": "code",
   "execution_count": 8,
   "id": "d1953f94",
   "metadata": {},
   "outputs": [],
   "source": [
    "train_path = \"../../train_data/type_1/train.json\"\n",
    "valid_path = \"../../train_data/type_1/valid.json\"\n",
    "\n",
    "train_dataset = process_data(train_path)\n",
    "valid_dataset = process_data(valid_path)"
   ]
  },
  {
   "cell_type": "code",
   "execution_count": 9,
   "id": "bab1491f",
   "metadata": {},
   "outputs": [],
   "source": [
    "# 超参数\n",
    "batch_size = 64\n",
    "learning_rate = 0.0001\n",
    "num_epochs = 100"
   ]
  },
  {
   "cell_type": "code",
   "execution_count": 10,
   "id": "db280aaa",
   "metadata": {},
   "outputs": [
    {
     "data": {
      "text/plain": [
       "==========================================================================================\n",
       "Layer (type:depth-idx)                   Output Shape              Param #\n",
       "==========================================================================================\n",
       "HearingAidModel                          [64, 119]                 --\n",
       "├─Linear: 1-1                            [64, 128]                 7,936\n",
       "├─ReLU: 1-2                              [64, 128]                 --\n",
       "├─Linear: 1-3                            [64, 256]                 33,024\n",
       "├─ReLU: 1-4                              [64, 256]                 --\n",
       "├─Linear: 1-5                            [64, 119]                 30,583\n",
       "==========================================================================================\n",
       "Total params: 71,543\n",
       "Trainable params: 71,543\n",
       "Non-trainable params: 0\n",
       "Total mult-adds (M): 4.58\n",
       "==========================================================================================\n",
       "Input size (MB): 0.02\n",
       "Forward/backward pass size (MB): 0.26\n",
       "Params size (MB): 0.29\n",
       "Estimated Total Size (MB): 0.56\n",
       "=========================================================================================="
      ]
     },
     "execution_count": 10,
     "metadata": {},
     "output_type": "execute_result"
    }
   ],
   "source": [
    "# 初始化模型\n",
    "input_size = len(train_dataset[0][\"user_info\"])\n",
    "output_size = len(train_dataset[0][\"parameter\"])\n",
    "model = HearingAidModel(input_size, output_size).to(DEVICE)\n",
    "summary(model, input_size=(batch_size, input_size))"
   ]
  },
  {
   "cell_type": "code",
   "execution_count": 11,
   "id": "4acdecc1",
   "metadata": {},
   "outputs": [],
   "source": [
    "train_dataset = HearingAidDataset(train_dataset)\n",
    "valid_dataset = HearingAidDataset(valid_dataset)\n",
    "\n",
    "train_loader = DataLoader(train_dataset, batch_size=batch_size, shuffle=True, num_workers=4, pin_memory=True)\n",
    "valid_loader = DataLoader(valid_dataset, batch_size=batch_size, shuffle=True, num_workers=4, pin_memory=True)"
   ]
  },
  {
   "cell_type": "code",
   "execution_count": 12,
   "id": "f47366e8",
   "metadata": {},
   "outputs": [
    {
     "name": "stdout",
     "output_type": "stream",
     "text": [
      "torch.Size([64, 61])\n",
      "tensor([[  0.5282,  -1.1199,   0.2262,  ...,   0.2745,   0.3481,   0.8670],\n",
      "        [ -3.1613,  -6.6161,  -4.8263,  ...,   4.7747,   0.4891,  -4.2064],\n",
      "        [ -2.7869,  -5.9963,  -5.6155,  ...,   3.3619,   0.7696,  -4.7101],\n",
      "        ...,\n",
      "        [ -4.2020, -10.0818,  -7.0336,  ...,   5.7964,   2.1514,  -5.4858],\n",
      "        [ -3.4194,  -8.9265,  -5.2155,  ...,   4.4228,   1.2709,  -5.0194],\n",
      "        [  0.4680,  -5.6077,  -2.1143,  ...,   1.2142,  -0.4570,  -3.2847]],\n",
      "       device='cuda:0', grad_fn=<AddmmBackward0>)\n"
     ]
    }
   ],
   "source": [
    "# 测试模型输出\n",
    "for user_info, param in train_loader:\n",
    "    user_info = user_info.to(DEVICE)\n",
    "    print(user_info.shape)\n",
    "    param = param.to(DEVICE)\n",
    "    output = model(user_info)\n",
    "    print(output)\n",
    "    break"
   ]
  },
  {
   "cell_type": "code",
   "execution_count": 13,
   "id": "eefb1e2d",
   "metadata": {},
   "outputs": [],
   "source": [
    "criterion = nn.L1Loss()\n",
    "optimizer = Adam(model.parameters(), lr=learning_rate, weight_decay=0.01)\n",
    "scheduler = StepLR(optimizer, step_size=10, gamma=0.1) "
   ]
  },
  {
   "cell_type": "code",
   "execution_count": 14,
   "id": "21af91c2",
   "metadata": {},
   "outputs": [
    {
     "name": "stdout",
     "output_type": "stream",
     "text": [
      "Epoch 1, Training Loss: 0.989, Validation Loss: 0.546\n",
      "Epoch 2, Training Loss: 0.448, Validation Loss: 0.386\n",
      "Epoch 3, Training Loss: 0.333, Validation Loss: 0.307\n",
      "Epoch 4, Training Loss: 0.270, Validation Loss: 0.259\n",
      "Epoch 5, Training Loss: 0.229, Validation Loss: 0.225\n",
      "Epoch 6, Training Loss: 0.202, Validation Loss: 0.203\n",
      "Epoch 7, Training Loss: 0.182, Validation Loss: 0.185\n",
      "Epoch 8, Training Loss: 0.167, Validation Loss: 0.174\n",
      "Epoch 9, Training Loss: 0.155, Validation Loss: 0.162\n",
      "Epoch 10, Training Loss: 0.147, Validation Loss: 0.155\n",
      "Epoch 11, Training Loss: 0.141, Validation Loss: 0.155\n",
      "Epoch 12, Training Loss: 0.141, Validation Loss: 0.154\n",
      "Epoch 13, Training Loss: 0.140, Validation Loss: 0.153\n",
      "Epoch 14, Training Loss: 0.139, Validation Loss: 0.153\n",
      "Epoch 15, Training Loss: 0.138, Validation Loss: 0.152\n",
      "Epoch 16, Training Loss: 0.138, Validation Loss: 0.151\n",
      "Epoch 17, Training Loss: 0.137, Validation Loss: 0.151\n",
      "Epoch 18, Training Loss: 0.137, Validation Loss: 0.150\n",
      "Epoch 19, Training Loss: 0.136, Validation Loss: 0.150\n",
      "Epoch 20, Training Loss: 0.136, Validation Loss: 0.149\n",
      "Epoch 21, Training Loss: 0.135, Validation Loss: 0.149\n",
      "Epoch 22, Training Loss: 0.135, Validation Loss: 0.149\n",
      "Epoch 23, Training Loss: 0.135, Validation Loss: 0.149\n",
      "Epoch 24, Training Loss: 0.135, Validation Loss: 0.149\n",
      "Epoch 25, Training Loss: 0.135, Validation Loss: 0.149\n",
      "Epoch 26, Training Loss: 0.135, Validation Loss: 0.149\n",
      "Epoch 27, Training Loss: 0.135, Validation Loss: 0.149\n",
      "Epoch 28, Training Loss: 0.135, Validation Loss: 0.149\n",
      "Epoch 29, Training Loss: 0.135, Validation Loss: 0.149\n",
      "Epoch 30, Training Loss: 0.135, Validation Loss: 0.148\n",
      "Epoch 31, Training Loss: 0.134, Validation Loss: 0.149\n",
      "Epoch 32, Training Loss: 0.135, Validation Loss: 0.148\n",
      "Epoch 33, Training Loss: 0.135, Validation Loss: 0.148\n",
      "Epoch 34, Training Loss: 0.134, Validation Loss: 0.148\n",
      "Epoch 35, Training Loss: 0.135, Validation Loss: 0.149\n",
      "Epoch 36, Training Loss: 0.135, Validation Loss: 0.149\n",
      "Epoch 37, Training Loss: 0.134, Validation Loss: 0.149\n",
      "Epoch 38, Training Loss: 0.135, Validation Loss: 0.149\n",
      "Epoch 39, Training Loss: 0.135, Validation Loss: 0.149\n",
      "Epoch 40, Training Loss: 0.134, Validation Loss: 0.149\n",
      "Early stopping triggered\n",
      "Training complete. Best Validation Loss: 0.148\n"
     ]
    }
   ],
   "source": [
    "# Early stopping 参数\n",
    "early_stopping_patience = 10\n",
    "best_val_loss = float('inf')\n",
    "patience_counter = 0\n",
    "\n",
    "train_losses = []\n",
    "valid_losses = []\n",
    "\n",
    "# 训练轮数\n",
    "for epoch in range(num_epochs):\n",
    "    model.train()\n",
    "    total_loss = 0\n",
    "    for user_info, param in train_loader:\n",
    "        user_info = user_info.to(DEVICE)\n",
    "        param = param.to(DEVICE)\n",
    "\n",
    "        optimizer.zero_grad()\n",
    "        output = model(user_info)\n",
    "        loss = criterion(output, param)\n",
    "        loss.backward()\n",
    "        optimizer.step()\n",
    "        total_loss += loss.item()\n",
    "    \n",
    "    avg_train_loss = total_loss / len(train_loader)\n",
    "    train_losses.append(avg_train_loss)\n",
    "    \n",
    "    # 验证步骤\n",
    "    model.eval()\n",
    "    total_val_loss = 0\n",
    "    with torch.no_grad():\n",
    "        for user_info, param in valid_loader:\n",
    "            user_info = user_info.to(DEVICE)\n",
    "            param = param.to(DEVICE)\n",
    "            output = model(user_info)\n",
    "            val_loss = criterion(output, param)\n",
    "            total_val_loss += val_loss.item()\n",
    "    \n",
    "    avg_val_loss = total_val_loss / len(valid_loader)\n",
    "    valid_losses.append(avg_val_loss)\n",
    "    print(f\"Epoch {epoch + 1}, Training Loss: {avg_train_loss:.3f}, Validation Loss: {avg_val_loss:.3f}\")\n",
    "    \n",
    "    # 早停检查\n",
    "    if avg_val_loss < best_val_loss:\n",
    "        best_val_loss = avg_val_loss\n",
    "        patience_counter = 0\n",
    "        torch.save(model.state_dict(), '../models/test.pth')  # 保存最佳模型\n",
    "    else:\n",
    "        patience_counter += 1\n",
    "    \n",
    "    if patience_counter >= early_stopping_patience:\n",
    "        print(\"Early stopping triggered\")\n",
    "        break\n",
    "    \n",
    "    scheduler.step()  # 更新学习率\n",
    "\n",
    "print(\"Training complete. Best Validation Loss: {:.3f}\".format(best_val_loss))"
   ]
  },
  {
   "cell_type": "code",
   "execution_count": 24,
   "id": "56e86595",
   "metadata": {},
   "outputs": [
    {
     "data": {
      "image/png": "[encoded data removed]",
      "text/plain": [
       "<Figure size 800x600 with 1 Axes>"
      ]
     },
     "metadata": {},
     "output_type": "display_data"
    }
   ],
   "source": [
    "# Draw the loss curve\n",
    "plt.figure(figsize=(8, 6))\n",
    "plt.plot(train_losses, label='Training Loss')\n",
    "plt.plot(valid_losses, label='Validation Loss')\n",
    "plt.title('Training and Validation Loss', fontsize=16)\n",
    "plt.xlabel('Epochs', fontsize=14)\n",
    "plt.ylabel('Loss', fontsize=14)\n",
    "\n",
    "y_ticks = np.arange(0, 1, 0.1)  # 设置刻度间隔为 0.5\n",
    "plt.yticks(y_ticks)\n",
    "\n",
    "plt.legend(fontsize=12)\n",
    "plt.tight_layout()\n",
    "plt.show()"
   ]
  },
  {
   "cell_type": "code",
   "execution_count": 16,
   "id": "eb57e15e",
   "metadata": {},
   "outputs": [
    {
     "data": {
      "text/plain": [
       "HearingAidModel(\n",
       "  (fc1): Linear(in_features=61, out_features=128, bias=True)\n",
       "  (relu1): ReLU()\n",
       "  (fc2): Linear(in_features=128, out_features=256, bias=True)\n",
       "  (relu2): ReLU()\n",
       "  (fc3): Linear(in_features=256, out_features=119, bias=True)\n",
       ")"
      ]
     },
     "execution_count": 16,
     "metadata": {},
     "output_type": "execute_result"
    }
   ],
   "source": [
    "# 加载模型\n",
    "model.load_state_dict(torch.load('../models/test.pth'))\n",
    "model.eval()"
   ]
  },
  {
   "cell_type": "code",
   "execution_count": 17,
   "id": "9341cad7",
   "metadata": {},
   "outputs": [],
   "source": [
    "def predict(sample):\n",
    "    user_info = sample[\"user_info\"]\n",
    "    real = sample[\"parameter\"]\n",
    "    scaler = MinMaxScaler()\n",
    "    _ = scaler.fit_transform([real])\n",
    "\n",
    "    user_info_tensor = torch.tensor(user_info, dtype=torch.float32).unsqueeze(0).to(DEVICE)\n",
    "\n",
    "    model.eval()\n",
    "    with torch.no_grad():\n",
    "        pred = model(user_info_tensor)\n",
    "        pred = scaler.inverse_transform(pred.cpu().numpy())[0]\n",
    "\n",
    "    return real, pred"
   ]
  },
  {
   "cell_type": "code",
   "execution_count": 18,
   "id": "e95bd569",
   "metadata": {},
   "outputs": [
    {
     "name": "stdout",
     "output_type": "stream",
     "text": [
      "Accuracy: 100.00%\n"
     ]
    },
    {
     "data": {
      "text/html": [
       "<div>\n",
       "<style scoped>\n",
       "    .dataframe tbody tr th:only-of-type {\n",
       "        vertical-align: middle;\n",
       "    }\n",
       "\n",
       "    .dataframe tbody tr th {\n",
       "        vertical-align: top;\n",
       "    }\n",
       "\n",
       "    .dataframe thead th {\n",
       "        text-align: right;\n",
       "    }\n",
       "</style>\n",
       "<table border=\"1\" class=\"dataframe\">\n",
       "  <thead>\n",
       "    <tr style=\"text-align: right;\">\n",
       "      <th></th>\n",
       "      <th>真实值</th>\n",
       "      <th>预测值</th>\n",
       "    </tr>\n",
       "  </thead>\n",
       "  <tbody>\n",
       "    <tr>\n",
       "      <th>0</th>\n",
       "      <td>2</td>\n",
       "      <td>1.963503</td>\n",
       "    </tr>\n",
       "    <tr>\n",
       "      <th>1</th>\n",
       "      <td>25</td>\n",
       "      <td>25.595570</td>\n",
       "    </tr>\n",
       "    <tr>\n",
       "      <th>2</th>\n",
       "      <td>21</td>\n",
       "      <td>21.191755</td>\n",
       "    </tr>\n",
       "    <tr>\n",
       "      <th>3</th>\n",
       "      <td>21</td>\n",
       "      <td>21.435606</td>\n",
       "    </tr>\n",
       "    <tr>\n",
       "      <th>4</th>\n",
       "      <td>21</td>\n",
       "      <td>21.269693</td>\n",
       "    </tr>\n",
       "    <tr>\n",
       "      <th>...</th>\n",
       "      <td>...</td>\n",
       "      <td>...</td>\n",
       "    </tr>\n",
       "    <tr>\n",
       "      <th>114</th>\n",
       "      <td>70</td>\n",
       "      <td>70.786079</td>\n",
       "    </tr>\n",
       "    <tr>\n",
       "      <th>115</th>\n",
       "      <td>10</td>\n",
       "      <td>10.741396</td>\n",
       "    </tr>\n",
       "    <tr>\n",
       "      <th>116</th>\n",
       "      <td>12</td>\n",
       "      <td>12.161856</td>\n",
       "    </tr>\n",
       "    <tr>\n",
       "      <th>117</th>\n",
       "      <td>6</td>\n",
       "      <td>6.638809</td>\n",
       "    </tr>\n",
       "    <tr>\n",
       "      <th>118</th>\n",
       "      <td>3</td>\n",
       "      <td>3.030882</td>\n",
       "    </tr>\n",
       "  </tbody>\n",
       "</table>\n",
       "<p>119 rows × 2 columns</p>\n",
       "</div>"
      ],
      "text/plain": [
       "     真实值        预测值\n",
       "0      2   1.963503\n",
       "1     25  25.595570\n",
       "2     21  21.191755\n",
       "3     21  21.435606\n",
       "4     21  21.269693\n",
       "..   ...        ...\n",
       "114   70  70.786079\n",
       "115   10  10.741396\n",
       "116   12  12.161856\n",
       "117    6   6.638809\n",
       "118    3   3.030882\n",
       "\n",
       "[119 rows x 2 columns]"
      ]
     },
     "execution_count": 18,
     "metadata": {},
     "output_type": "execute_result"
    }
   ],
   "source": [
    "test_path = \"../../train_data/type_1/test.json\"\n",
    "test_dataset = process_data(test_path)\n",
    "\n",
    "sample = random.choice(test_dataset)\n",
    "real, pred = predict(sample)\n",
    "\n",
    "# calculate the accuracy\n",
    "correct = 0\n",
    "for a, b in zip(real, pred):\n",
    "    if  abs(a - b) <= 1:\n",
    "        correct += 1\n",
    "print(f\"Accuracy: {correct / len(real) * 100:.2f}%\")\n",
    "\n",
    "results = pd.DataFrame({\n",
    "    '真实值': real,\n",
    "    '预测值': pred,\n",
    "})\n",
    "\n",
    "results"
   ]
  },
  {
   "cell_type": "code",
   "execution_count": 19,
   "id": "b616b32b",
   "metadata": {},
   "outputs": [
    {
     "name": "stdout",
     "output_type": "stream",
     "text": [
      "Average Accuracy: 99.02%\n"
     ]
    }
   ],
   "source": [
    "accuracy = []\n",
    "for item in test_dataset:\n",
    "    if item[\"user_info\"]:\n",
    "        reals, preds = predict(item)\n",
    "        correct = 0\n",
    "        for i, real, pred in zip(range(119), reals, preds):\n",
    "            if abs(real - pred) <= 1:\n",
    "                correct += 1\n",
    "        accuracy.append(correct / len(reals))\n",
    "\n",
    "print(f\"Average Accuracy: {sum(accuracy) / len(accuracy) * 100:.2f}%\")"
   ]
  },
  {
   "cell_type": "code",
   "execution_count": 20,
   "id": "6032e2c7",
   "metadata": {},
   "outputs": [
    {
     "data": {
      "text/plain": [
       "(-0.5322510600090027, 0.1546587496995926)"
      ]
     },
     "execution_count": 20,
     "metadata": {},
     "output_type": "execute_result"
    }
   ],
   "source": [
    "# 统计误差\n",
    "errors = [[] for _ in range(119)]\n",
    "\n",
    "for item in test_dataset:\n",
    "    if item[\"user_info\"]:\n",
    "        reals, preds = predict(item)\n",
    "        reals, preds = list(reals), list(preds)\n",
    "        accepted_error = []\n",
    "        for i in range(119):\n",
    "            errors[i].append(reals[i] - preds[i])\n",
    "\n",
    "\n",
    "# 计算每个维度可接受的误差范围：数值位于范围外1.5×IQR 到 3×IQR范围的数值，称作适度离群值（mild outlier）\n",
    "acceptable_errors = []\n",
    "for error in errors:\n",
    "    error = pd.Series(error)\n",
    "    Q1 = error.quantile(0.25)\n",
    "    Q3 = error.quantile(0.75)\n",
    "    IQR = Q3 - Q1\n",
    "    acceptable_error = (Q1 - 3 * IQR, Q3 + 3 * IQR)\n",
    "    acceptable_errors.append(acceptable_error)\n",
    "\n",
    "acceptable_errors[0]"
   ]
  },
  {
   "cell_type": "code",
   "execution_count": 21,
   "id": "931e8892",
   "metadata": {},
   "outputs": [
    {
     "name": "stdout",
     "output_type": "stream",
     "text": [
      "Average Accuracy: 99.81%\n"
     ]
    }
   ],
   "source": [
    "accuracy = []\n",
    "for item in test_dataset:\n",
    "    if item[\"user_info\"]:\n",
    "        reals, preds = predict(item)\n",
    "        correct = 0\n",
    "        for i, real, pred in zip(range(119), reals, preds):\n",
    "            x, y = acceptable_errors[i]\n",
    "            if x <= real - pred <= y:\n",
    "                correct += 1\n",
    "        accuracy.append(correct / len(reals))\n",
    "\n",
    "print(f\"Average Accuracy: {sum(accuracy) / len(accuracy) * 100:.2f}%\")"
   ]
  },
  {
   "cell_type": "code",
   "execution_count": 22,
   "id": "bc5c1d7b",
   "metadata": {},
   "outputs": [],
   "source": [
    "# # 每个维度的箱型图\n",
    "# datas_1 = []\n",
    "# datas_2 = []\n",
    "\n",
    "# for item in test_dataset:\n",
    "#     if item[\"user_info\"]:\n",
    "#         reals, preds = predict(item)\n",
    "#         reals, preds = list(reals), list(preds)\n",
    "#         datas_1.append(reals[0] - preds[0])\n",
    "#         datas_2.append(reals[1] - preds[1])\n",
    "\n",
    "# # plot the boxplot, \n",
    "# plt.figure(figsize=(10, 6))\n",
    "# plt.boxplot([datas_1, datas_2], patch_artist=True, showmeans=True)\n",
    "# plt.xticks([1, 2], ['Dimension 1', 'Dimension 2'])\n",
    "# plt.ylabel('Error')\n",
    "# plt.title('Error of each dimension')\n",
    "# plt.grid(axis='y')\n",
    "# plt.show()"
   ]
  },
  {
   "cell_type": "code",
   "execution_count": 23,
   "id": "3dc78467",
   "metadata": {},
   "outputs": [
    {
     "data": {
      "image/png": "[encoded data removed]",
      "text/plain": [
       "<Figure size 1000x600 with 1 Axes>"
      ]
     },
     "metadata": {},
     "output_type": "display_data"
    }
   ],
   "source": [
    "datas_real = [[] for _ in range(119)]\n",
    "datas_pred = [[] for _ in range(119)]\n",
    "\n",
    "for item in test_dataset:\n",
    "    if item[\"user_info\"]:\n",
    "        reals, preds = predict(item)\n",
    "        reals, preds = list(reals), list(preds)\n",
    "        for i in range(119):\n",
    "            datas_real[i].append(reals[i])\n",
    "            datas_pred[i].append(preds[i])\n",
    "\n",
    "# plot the boxplot \n",
    "plt.figure(figsize=(10, 6))\n",
    "plt.boxplot(datas_real[:20], patch_artist=True, showmeans=True)\n",
    "plt.xticks([_ for _ in range(21)], [_ for _ in range(21)])\n",
    "plt.ylabel('Real Value')\n",
    "plt.title('Each dimension')\n",
    "plt.grid(axis='y')\n",
    "plt.show()"
   ]
  }
 ],
 "metadata": {
  "kernelspec": {
   "display_name": "Python 3 (ipykernel)",
   "language": "python",
   "name": "python3"
  },
  "language_info": {
   "codemirror_mode": {
    "name": "ipython",
    "version": 3
   },
   "file_extension": ".py",
   "mimetype": "text/x-python",
   "name": "python",
   "nbconvert_exporter": "python",
   "pygments_lexer": "ipython3",
   "version": "3.10.12"
  }
 },
 "nbformat": 4,
 "nbformat_minor": 5
}
